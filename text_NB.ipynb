{
 "cells": [
  {
   "cell_type": "code",
   "execution_count": 1,
   "metadata": {},
   "outputs": [],
   "source": [
    "import pandas as pd\n",
    "import sklearn\n",
    "import matplotlib.pyplot as plt\n",
    "import numpy as np\n",
    "from sklearn.metrics import confusion_matrix"
   ]
  },
  {
   "cell_type": "markdown",
   "metadata": {},
   "source": [
    "### Data Preparation"
   ]
  },
  {
   "cell_type": "code",
   "execution_count": 8,
   "metadata": {},
   "outputs": [],
   "source": [
    "TestDF = pd.read_csv(\"/Users/nikkkikong/Desktop/501 Assignment6 /yelp_NBtest.csv\")\n",
    "TrainDF = pd.read_csv(\"/Users/nikkkikong/Desktop/501 Assignment6 /yelp_NBtrain.csv\")\n",
    "TrainDF.rename({\"Unnamed: 0\":\"Label\"}, axis=\"columns\", inplace=True)\n",
    "TrainDF[\"Label\"] = pd.Categorical(TrainDF[\"Label\"])\n",
    "TestDF.rename({\"Unnamed: 0\":\"Label\"}, axis=\"columns\", inplace=True)\n",
    "TestDF[\"Label\"] = pd.Categorical(TestDF[\"Label\"])\n",
    "\n",
    "## Save labels\n",
    "TestLabels=TestDF[\"Label\"]\n",
    "## remove labels\n",
    "## Make a copy of TestDF\n",
    "CopyTestDF=TestDF.copy()\n",
    "TestDF = TestDF.drop([\"Label\"], axis=1)\n",
    "## DF seperate TRAIN SET from the labels\n",
    "TrainDF_nolabels=TrainDF.drop([\"Label\"], axis=1)\n",
    "#print(TrainDF_nolabels)\n",
    "TrainLabels=TrainDF[\"Label\"]"
   ]
  },
  {
   "cell_type": "code",
   "execution_count": 9,
   "metadata": {},
   "outputs": [],
   "source": [
    "def plot_confusion_matrix(cm, classes,\n",
    "                          normalize=False,\n",
    "                          title='Confusion matrix',\n",
    "                          cmap=plt.cm.PuRd):\n",
    "    \"\"\"\n",
    "    This function prints and plots the confusion matrix.\n",
    "    Normalization can be applied by setting `normalize=True`.\n",
    "    \"\"\"\n",
    "    import itertools\n",
    "    if normalize:\n",
    "        cm = cm.astype('float') / cm.sum(axis=1)[:, np.newaxis]\n",
    "        print(\"Normalized confusion matrix\")\n",
    "    else:\n",
    "        print('Confusion matrix, without normalization')\n",
    "\n",
    "    print(cm)\n",
    "\n",
    "    plt.imshow(cm, interpolation='nearest', cmap=cmap)\n",
    "    plt.title(title)\n",
    "    plt.colorbar()\n",
    "    tick_marks = np.arange(len(classes))\n",
    "    plt.xticks(tick_marks, classes, rotation=45)\n",
    "    plt.yticks(tick_marks, classes)\n",
    "\n",
    "    fmt = '.2f' if normalize else 'd'\n",
    "    thresh = cm.max() / 2.\n",
    "    for i, j in itertools.product(range(cm.shape[0]), range(cm.shape[1])):\n",
    "        plt.text(j, i, format(cm[i, j], fmt),\n",
    "                 horizontalalignment=\"center\",\n",
    "                 color=\"white\" if cm[i, j] > thresh else \"black\")\n",
    "\n",
    "    plt.ylabel('Actual')\n",
    "    plt.xlabel('Predicted')\n",
    "    plt.tight_layout()\n",
    "\n",
    "\n",
    "from sklearn.metrics import classification_report as clsr\n",
    "def evaluate_model(model, X_test_data, y_test_labels):\n",
    "    y_predicted_labels = model.predict(X_test_data)\n",
    "    print(clsr(y_test_labels, y_predicted_labels))"
   ]
  },
  {
   "cell_type": "markdown",
   "metadata": {},
   "source": [
    "### Multinomial Naive Bayes Classifier"
   ]
  },
  {
   "cell_type": "code",
   "execution_count": 10,
   "metadata": {},
   "outputs": [
    {
     "name": "stdout",
     "output_type": "stream",
     "text": [
      "\n",
      "The prediction from NB is:\n",
      "['neu' 'neg' 'pos' 'neg' 'neg' 'neg' 'neg' 'neu' 'neg' 'pos' 'neu' 'neu'\n",
      " 'neg' 'neu' 'neg' 'pos' 'pos' 'neu' 'neg' 'neg' 'neg']\n",
      "\n",
      "The actual labels are:\n",
      "0     neu\n",
      "1     neg\n",
      "2     pos\n",
      "3     neu\n",
      "4     neu\n",
      "5     pos\n",
      "6     neu\n",
      "7     pos\n",
      "8     neu\n",
      "9     pos\n",
      "10    neu\n",
      "11    neu\n",
      "12    neg\n",
      "13    pos\n",
      "14    neg\n",
      "15    pos\n",
      "16    neg\n",
      "17    pos\n",
      "18    neg\n",
      "19    neg\n",
      "20    neg\n",
      "Name: Label, dtype: category\n",
      "Categories (3, object): ['neg', 'neu', 'pos']\n",
      "Confusion matrix, without normalization\n",
      "[[6 0 1]\n",
      " [4 3 0]\n",
      " [1 3 3]]\n",
      "\n",
      "Classification Report:\n",
      "\n",
      "              precision    recall  f1-score   support\n",
      "\n",
      "         neg       0.55      0.86      0.67         7\n",
      "         neu       0.50      0.43      0.46         7\n",
      "         pos       0.75      0.43      0.55         7\n",
      "\n",
      "    accuracy                           0.57        21\n",
      "   macro avg       0.60      0.57      0.56        21\n",
      "weighted avg       0.60      0.57      0.56        21\n",
      "\n"
     ]
    },
    {
     "data": {
      "image/png": "[encoded data removed]",
      "text/plain": [
       "<Figure size 432x288 with 2 Axes>"
      ]
     },
     "metadata": {
      "needs_background": "light"
     },
     "output_type": "display_data"
    }
   ],
   "source": [
    "from sklearn.naive_bayes import MultinomialNB\n",
    "MyModelNB= MultinomialNB()\n",
    "MyModelNB.fit(TrainDF_nolabels, TrainLabels)\n",
    "Prediction = MyModelNB.predict(TestDF)\n",
    "print(\"\\nThe prediction from NB is:\")\n",
    "print(Prediction)\n",
    "print(\"\\nThe actual labels are:\")\n",
    "print(TestLabels)\n",
    "## confusion matrix\n",
    "from sklearn.metrics import confusion_matrix\n",
    "cnf_matrix = confusion_matrix(TestLabels, Prediction,labels=['neg', 'neu', 'pos'])\n",
    "plt.figure()\n",
    "plot_confusion_matrix(cnf_matrix, classes=['neg', 'neu', 'pos'],\n",
    "                      title='Confusion matrix for Multinomial Naive Bayes Classifier')\n",
    "print(\"\\nClassification Report:\\n\")\n",
    "evaluate_model(MyModelNB, TestDF, TestLabels)"
   ]
  },
  {
   "cell_type": "markdown",
   "metadata": {},
   "source": [
    "### Bernoulli Naive Bayes Classifier"
   ]
  },
  {
   "cell_type": "code",
   "execution_count": 11,
   "metadata": {},
   "outputs": [
    {
     "name": "stdout",
     "output_type": "stream",
     "text": [
      "\n",
      "Bernoulli prediction:\n",
      " ['pos' 'neg' 'pos' 'pos' 'neu' 'pos' 'neu' 'pos' 'neg' 'pos' 'pos' 'pos'\n",
      " 'neg' 'pos' 'neg' 'pos' 'pos' 'pos' 'pos' 'neg' 'pos']\n",
      "\n",
      "Actual:\n",
      "0     neu\n",
      "1     neg\n",
      "2     pos\n",
      "3     neu\n",
      "4     neu\n",
      "5     pos\n",
      "6     neu\n",
      "7     pos\n",
      "8     neu\n",
      "9     pos\n",
      "10    neu\n",
      "11    neu\n",
      "12    neg\n",
      "13    pos\n",
      "14    neg\n",
      "15    pos\n",
      "16    neg\n",
      "17    pos\n",
      "18    neg\n",
      "19    neg\n",
      "20    neg\n",
      "Name: Label, dtype: category\n",
      "Categories (3, object): ['neg', 'neu', 'pos']\n",
      "Confusion matrix, without normalization\n",
      "[[4 0 3]\n",
      " [1 2 4]\n",
      " [0 0 7]]\n",
      "\n",
      "Classification Report:\n",
      "\n",
      "              precision    recall  f1-score   support\n",
      "\n",
      "         neg       0.80      0.57      0.67         7\n",
      "         neu       1.00      0.29      0.44         7\n",
      "         pos       0.50      1.00      0.67         7\n",
      "\n",
      "    accuracy                           0.62        21\n",
      "   macro avg       0.77      0.62      0.59        21\n",
      "weighted avg       0.77      0.62      0.59        21\n",
      "\n"
     ]
    },
    {
     "data": {
      "image/png": "[encoded data removed]",
      "text/plain": [
       "<Figure size 432x288 with 2 Axes>"
      ]
     },
     "metadata": {
      "needs_background": "light"
     },
     "output_type": "display_data"
    }
   ],
   "source": [
    "from sklearn.naive_bayes import BernoulliNB\n",
    "## Bernoulli uses 0 and 1 data (not counts)\n",
    "## So - we need to re-format our data first\n",
    "## Make a COPY of the DF\n",
    "TrainDF_nolabels_Binary=TrainDF_nolabels.copy()   ## USE .copy()\n",
    "TrainDF_nolabels_Binary[TrainDF_nolabels_Binary >= 1] = 1\n",
    "TrainDF_nolabels_Binary[TrainDF_nolabels_Binary < 1] = 0\n",
    "BernModel = BernoulliNB()\n",
    "BernModel.fit(TrainDF_nolabels_Binary, TrainLabels)\n",
    "#BernoulliNB(alpha=1.0, binarize=0.0, class_prior=None, fit_prior=True)\n",
    "print(\"\\nBernoulli prediction:\\n\", BernModel.predict(TestDF))\n",
    "print(\"\\nActual:\")\n",
    "print(TestLabels)\n",
    "bn_matrix = confusion_matrix(TestLabels, BernModel.predict(TestDF),labels=['neg', 'neu', 'pos'])\n",
    "plt.figure()\n",
    "plot_confusion_matrix(bn_matrix, classes=['neg', 'neu', 'pos'],\n",
    "                      title='Confusion matrix for Bernoulli Naive Bayes Classifier')\n",
    "print(\"\\nClassification Report:\\n\")\n",
    "evaluate_model(BernModel, TestDF, TestLabels)"
   ]
  },
  {
   "cell_type": "markdown",
   "metadata": {},
   "source": [
    "### SVM Classifier with a Linear Kernel"
   ]
  },
  {
   "cell_type": "code",
   "execution_count": 12,
   "metadata": {},
   "outputs": [
    {
     "name": "stdout",
     "output_type": "stream",
     "text": [
      "SVM prediction:\n",
      " ['neu' 'neg' 'pos' 'pos' 'neu' 'pos' 'neu' 'neu' 'pos' 'pos' 'neu' 'neu'\n",
      " 'neg' 'pos' 'neg' 'pos' 'neu' 'pos' 'pos' 'neg' 'neu']\n",
      "Actual:\n",
      "0     neu\n",
      "1     neg\n",
      "2     pos\n",
      "3     neu\n",
      "4     neu\n",
      "5     pos\n",
      "6     neu\n",
      "7     pos\n",
      "8     neu\n",
      "9     pos\n",
      "10    neu\n",
      "11    neu\n",
      "12    neg\n",
      "13    pos\n",
      "14    neg\n",
      "15    pos\n",
      "16    neg\n",
      "17    pos\n",
      "18    neg\n",
      "19    neg\n",
      "20    neg\n",
      "Name: Label, dtype: category\n",
      "Categories (3, object): ['neg', 'neu', 'pos']\n",
      "Confusion matrix, without normalization\n",
      "[[4 2 1]\n",
      " [0 5 2]\n",
      " [0 1 6]]\n",
      "\n",
      "Classification Report:\n",
      "\n",
      "              precision    recall  f1-score   support\n",
      "\n",
      "         neg       1.00      0.57      0.73         7\n",
      "         neu       0.62      0.71      0.67         7\n",
      "         pos       0.67      0.86      0.75         7\n",
      "\n",
      "    accuracy                           0.71        21\n",
      "   macro avg       0.76      0.71      0.71        21\n",
      "weighted avg       0.76      0.71      0.71        21\n",
      "\n"
     ]
    },
    {
     "data": {
      "image/png": "[encoded data removed]",
      "text/plain": [
       "<Figure size 432x288 with 2 Axes>"
      ]
     },
     "metadata": {
      "needs_background": "light"
     },
     "output_type": "display_data"
    }
   ],
   "source": [
    "from sklearn.svm import LinearSVC\n",
    "SVM_Model=LinearSVC(C=.1)\n",
    "SVM_Model.fit(TrainDF_nolabels, TrainLabels)\n",
    "#BernoulliNB(alpha=1.0, binarize=0.0, class_prior=None, fit_prior=True)\n",
    "print(\"SVM prediction:\\n\", SVM_Model.predict(TestDF))\n",
    "print(\"Actual:\")\n",
    "print(TestLabels)\n",
    "\n",
    "SVM_matrix = confusion_matrix(TestLabels, SVM_Model.predict(TestDF),labels=['neg', 'neu', 'pos'])\n",
    "plt.figure()\n",
    "plot_confusion_matrix(SVM_matrix, classes=['neg', 'neu', 'pos'],\n",
    "                      title='Confusion matrix for SVM Classifier with a Linear Kernel')\n",
    "print(\"\\nClassification Report:\\n\")\n",
    "evaluate_model(SVM_Model, TestDF, TestLabels)                                    "
   ]
  },
  {
   "cell_type": "markdown",
   "metadata": {},
   "source": [
    "### SVM Classifier with a Polynomial Kernel"
   ]
  },
  {
   "cell_type": "code",
   "execution_count": 27,
   "metadata": {},
   "outputs": [
    {
     "name": "stdout",
     "output_type": "stream",
     "text": [
      "[LibSVM]SVM prediction:\n",
      " ['pos' 'pos' 'pos' 'pos' 'pos' 'pos' 'neu' 'pos' 'pos' 'pos' 'pos' 'pos'\n",
      " 'pos' 'pos' 'pos' 'pos' 'pos' 'pos' 'pos' 'pos' 'pos']\n",
      "Actual:\n",
      "0     neu\n",
      "1     neg\n",
      "2     pos\n",
      "3     neu\n",
      "4     neu\n",
      "5     pos\n",
      "6     neu\n",
      "7     pos\n",
      "8     neu\n",
      "9     pos\n",
      "10    neu\n",
      "11    neu\n",
      "12    neg\n",
      "13    pos\n",
      "14    neg\n",
      "15    pos\n",
      "16    neg\n",
      "17    pos\n",
      "18    neg\n",
      "19    neg\n",
      "20    neg\n",
      "Name: Label, dtype: category\n",
      "Categories (3, object): ['neg', 'neu', 'pos']\n",
      "Confusion matrix, without normalization\n",
      "[[0 0 7]\n",
      " [0 1 6]\n",
      " [0 0 7]]\n",
      "\n",
      "Classification Report:\n",
      "\n",
      "              precision    recall  f1-score   support\n",
      "\n",
      "         neg       0.00      0.00      0.00         7\n",
      "         neu       1.00      0.14      0.25         7\n",
      "         pos       0.35      1.00      0.52         7\n",
      "\n",
      "    accuracy                           0.38        21\n",
      "   macro avg       0.45      0.38      0.26        21\n",
      "weighted avg       0.45      0.38      0.26        21\n",
      "\n"
     ]
    },
    {
     "name": "stderr",
     "output_type": "stream",
     "text": [
      "/Users/nikkkikong/anaconda3/lib/python3.7/site-packages/sklearn/metrics/_classification.py:1221: UndefinedMetricWarning: Precision and F-score are ill-defined and being set to 0.0 in labels with no predicted samples. Use `zero_division` parameter to control this behavior.\n",
      "  _warn_prf(average, modifier, msg_start, len(result))\n"
     ]
    },
    {
     "data": {
      "image/png": "[encoded data removed]",
      "text/plain": [
       "<Figure size 432x288 with 2 Axes>"
      ]
     },
     "metadata": {
      "needs_background": "light"
     },
     "output_type": "display_data"
    }
   ],
   "source": [
    "from sklearn.svm import SVC\n",
    "SVM_Model=sklearn.svm.SVC(C=30, kernel='poly',degree=2,\n",
    "                           gamma=\"auto\", verbose=True)\n",
    "SVM_Model.fit(TrainDF_nolabels, TrainLabels)\n",
    "print(\"SVM prediction:\\n\", SVM_Model.predict(TestDF))\n",
    "print(\"Actual:\")\n",
    "print(TestLabels)\n",
    "\n",
    "SVM_matrix = confusion_matrix(TestLabels, SVM_Model.predict(TestDF),labels=['neg', 'neu', 'pos'])\n",
    "plt.figure()\n",
    "plot_confusion_matrix(SVM_matrix, classes=['neg', 'neu', 'pos'],\n",
    "                      title='Confusion matrix for SVM Classifier with a Polynomial Kernel')\n",
    "print(\"\\nClassification Report:\\n\")\n",
    "evaluate_model(SVM_Model, TestDF, TestLabels)    "
   ]
  },
  {
   "cell_type": "markdown",
   "metadata": {},
   "source": [
    "### SVM Classifier with a Radial Kernel"
   ]
  },
  {
   "cell_type": "code",
   "execution_count": 35,
   "metadata": {},
   "outputs": [
    {
     "name": "stdout",
     "output_type": "stream",
     "text": [
      "[LibSVM]SVM prediction:\n",
      " ['neu' 'neg' 'pos' 'pos' 'neu' 'pos' 'neu' 'pos' 'pos' 'pos' 'pos' 'neu'\n",
      " 'neg' 'pos' 'neg' 'pos' 'pos' 'pos' 'pos' 'neg' 'neg']\n",
      "Actual:\n",
      "0     neu\n",
      "1     neg\n",
      "2     pos\n",
      "3     neu\n",
      "4     neu\n",
      "5     pos\n",
      "6     neu\n",
      "7     pos\n",
      "8     neu\n",
      "9     pos\n",
      "10    neu\n",
      "11    neu\n",
      "12    neg\n",
      "13    pos\n",
      "14    neg\n",
      "15    pos\n",
      "16    neg\n",
      "17    pos\n",
      "18    neg\n",
      "19    neg\n",
      "20    neg\n",
      "Name: Label, dtype: category\n",
      "Categories (3, object): ['neg', 'neu', 'pos']\n",
      "Confusion matrix, without normalization\n",
      "[[5 0 2]\n",
      " [0 4 3]\n",
      " [0 0 7]]\n",
      "\n",
      "Classification Report:\n",
      "\n",
      "              precision    recall  f1-score   support\n",
      "\n",
      "         neg       1.00      0.71      0.83         7\n",
      "         neu       1.00      0.57      0.73         7\n",
      "         pos       0.58      1.00      0.74         7\n",
      "\n",
      "    accuracy                           0.76        21\n",
      "   macro avg       0.86      0.76      0.77        21\n",
      "weighted avg       0.86      0.76      0.77        21\n",
      "\n"
     ]
    },
    {
     "data": {
      "image/png": "[encoded data removed]",
      "text/plain": [
       "<Figure size 432x288 with 2 Axes>"
      ]
     },
     "metadata": {
      "needs_background": "light"
     },
     "output_type": "display_data"
    }
   ],
   "source": [
    "from sklearn.svm import SVC\n",
    "SVM_Model=sklearn.svm.SVC(C=30, kernel='rbf', \n",
    "                           verbose=True, gamma=\"auto\")\n",
    "SVM_Model.fit(TrainDF_nolabels, TrainLabels)\n",
    "print(\"SVM prediction:\\n\", SVM_Model.predict(TestDF))\n",
    "print(\"Actual:\")\n",
    "print(TestLabels)\n",
    "\n",
    "SVM_matrix = confusion_matrix(TestLabels, SVM_Model.predict(TestDF),labels=['neg', 'neu', 'pos'])\n",
    "plt.figure()\n",
    "plot_confusion_matrix(SVM_matrix, classes=['neg', 'neu', 'pos'],\n",
    "                      title='Confusion matrix for SVM Classifier with a Radial Kernel')\n",
    "print(\"\\nClassification Report:\\n\")\n",
    "evaluate_model(SVM_Model, TestDF, TestLabels)    "
   ]
  },
  {
   "cell_type": "code",
   "execution_count": null,
   "metadata": {},
   "outputs": [],
   "source": []
  }
 ],
 "metadata": {
  "kernelspec": {
   "display_name": "Python 3",
   "language": "python",
   "name": "python3"
  },
  "language_info": {
   "codemirror_mode": {
    "name": "ipython",
    "version": 3
   },
   "file_extension": ".py",
   "mimetype": "text/x-python",
   "name": "python",
   "nbconvert_exporter": "python",
   "pygments_lexer": "ipython3",
   "version": "3.7.6"
  }
 },
 "nbformat": 4,
 "nbformat_minor": 4
}
