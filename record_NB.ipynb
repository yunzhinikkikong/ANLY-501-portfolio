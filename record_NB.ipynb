{
 "cells": [
  {
   "cell_type": "code",
   "execution_count": 1,
   "metadata": {},
   "outputs": [],
   "source": [
    "import pandas as pd\n",
    "import sklearn\n",
    "import matplotlib.pyplot as plt\n",
    "import numpy as np\n",
    "from sklearn.metrics import confusion_matrix"
   ]
  },
  {
   "cell_type": "markdown",
   "metadata": {},
   "source": [
    "### Data Preparation"
   ]
  },
  {
   "cell_type": "code",
   "execution_count": 7,
   "metadata": {},
   "outputs": [],
   "source": [
    "TrainDF = pd.read_csv(\"/Users/nikkkikong/Desktop/501 Assignment6 /Foodborne_NBtrain.csv\")\n",
    "TrainDF[\"Etiology\"] = pd.Categorical(TrainDF[\"Etiology\"])\n",
    "# There should be only numeric varaibles when fitting NB and SVM model in Python\n",
    "TrainDF = TrainDF.drop([\"setting\"], axis=1)\n",
    "TrainDF = TrainDF.drop([\"Etiology.Status\"], axis=1)\n",
    "\n",
    "TestDF = pd.read_csv(\"/Users/nikkkikong/Desktop/501 Assignment6 /Foodborne_NBtest.csv\")\n",
    "TestDF[\"Etiology\"] = pd.Categorical(TestDF[\"Etiology\"])\n",
    "# There should be only numeric varaibles when fitting NB and SVM model in Python\n",
    "TestDF = TestDF.drop([\"setting\"], axis=1)\n",
    "TestDF = TestDF.drop([\"Etiology.Status\"], axis=1)\n",
    "\n",
    "## Save labels\n",
    "TestLabels=TestDF[\"Etiology\"]\n",
    "## remove labels\n",
    "## Make a copy of TestDF\n",
    "CopyTestDF=TestDF.copy()\n",
    "TestDF = TestDF.drop([\"Etiology\"], axis=1)\n",
    "## DF seperate TRAIN SET from the labels\n",
    "TrainDF_nolabels=TrainDF.drop([\"Etiology\"], axis=1)\n",
    "#print(TrainDF_nolabels)\n",
    "TrainLabels=TrainDF[\"Etiology\"]"
   ]
  },
  {
   "cell_type": "code",
   "execution_count": 8,
   "metadata": {},
   "outputs": [],
   "source": [
    "def plot_confusion_matrix(cm, classes,\n",
    "                          normalize=False,\n",
    "                          title='Confusion matrix',\n",
    "                          cmap=plt.cm.YlOrBr):\n",
    "    \"\"\"\n",
    "    This function prints and plots the confusion matrix.\n",
    "    Normalization can be applied by setting `normalize=True`.\n",
    "    \"\"\"\n",
    "    import itertools\n",
    "    if normalize:\n",
    "        cm = cm.astype('float') / cm.sum(axis=1)[:, np.newaxis]\n",
    "        print(\"Normalized confusion matrix\")\n",
    "    else:\n",
    "        print('Confusion matrix, without normalization')\n",
    "\n",
    "    print(cm)\n",
    "\n",
    "    plt.imshow(cm, interpolation='nearest', cmap=cmap)\n",
    "    plt.title(title)\n",
    "    plt.colorbar()\n",
    "    tick_marks = np.arange(len(classes))\n",
    "    plt.xticks(tick_marks, classes, rotation=45)\n",
    "    plt.yticks(tick_marks, classes)\n",
    "\n",
    "    fmt = '.2f' if normalize else 'd'\n",
    "    thresh = cm.max() / 2.\n",
    "    for i, j in itertools.product(range(cm.shape[0]), range(cm.shape[1])):\n",
    "        plt.text(j, i, format(cm[i, j], fmt),\n",
    "                 horizontalalignment=\"center\",\n",
    "                 color=\"white\" if cm[i, j] > thresh else \"black\")\n",
    "\n",
    "    plt.ylabel('Actual')\n",
    "    plt.xlabel('Predicted')\n",
    "    plt.tight_layout()\n",
    "\n",
    "\n",
    "from sklearn.metrics import classification_report as clsr\n",
    "def evaluate_model(model, X_test_data, y_test_labels):\n",
    "    y_predicted_labels = model.predict(X_test_data)\n",
    "    print(clsr(y_test_labels, y_predicted_labels))"
   ]
  },
  {
   "cell_type": "markdown",
   "metadata": {},
   "source": [
    "### Multinomial Naive Bayes Classifier"
   ]
  },
  {
   "cell_type": "code",
   "execution_count": 9,
   "metadata": {},
   "outputs": [
    {
     "name": "stdout",
     "output_type": "stream",
     "text": [
      "\n",
      "The prediction from NB is:\n",
      "['Other' 'Other' 'Other' 'Escherichia' 'Other' 'Other' 'Other' 'Other'\n",
      " 'Other' 'Other' 'Other' 'Other' 'Other' 'Other' 'Escherichia' 'Norovirus'\n",
      " 'Norovirus' 'Norovirus' 'Norovirus' 'Norovirus' 'Norovirus' 'Norovirus'\n",
      " 'Other' 'Norovirus' 'Norovirus' 'Norovirus' 'Norovirus' 'Norovirus'\n",
      " 'Norovirus' 'Norovirus' 'Salmonella' 'Salmonella' 'Norovirus' 'Norovirus'\n",
      " 'Norovirus' 'Norovirus' 'Other' 'Norovirus' 'Other' 'Other' 'Norovirus'\n",
      " 'Salmonella']\n",
      "\n",
      "The actual labels are:\n",
      "0           Other\n",
      "1           Other\n",
      "2           Other\n",
      "3           Other\n",
      "4           Other\n",
      "5           Other\n",
      "6           Other\n",
      "7     Escherichia\n",
      "8      Salmonella\n",
      "9           Other\n",
      "10          Other\n",
      "11     Salmonella\n",
      "12     Salmonella\n",
      "13     Salmonella\n",
      "14     Salmonella\n",
      "15      Norovirus\n",
      "16      Norovirus\n",
      "17      Norovirus\n",
      "18      Norovirus\n",
      "19      Norovirus\n",
      "20      Norovirus\n",
      "21          Other\n",
      "22     Salmonella\n",
      "23      Norovirus\n",
      "24          Other\n",
      "25      Norovirus\n",
      "26      Norovirus\n",
      "27      Norovirus\n",
      "28          Other\n",
      "29          Other\n",
      "30     Salmonella\n",
      "31      Norovirus\n",
      "32          Other\n",
      "33      Norovirus\n",
      "34          Other\n",
      "35      Norovirus\n",
      "36     Salmonella\n",
      "37    Escherichia\n",
      "38    Escherichia\n",
      "39     Salmonella\n",
      "40      Norovirus\n",
      "41     Salmonella\n",
      "Name: Etiology, dtype: category\n",
      "Categories (4, object): ['Escherichia', 'Norovirus', 'Other', 'Salmonella']\n",
      "Confusion matrix, without normalization\n",
      "[[ 8  1  0  6]\n",
      " [ 2  0  0  1]\n",
      " [ 7  1  2  0]\n",
      " [ 0  0  1 13]]\n",
      "\n",
      "Classification Report:\n",
      "\n",
      "              precision    recall  f1-score   support\n",
      "\n",
      " Escherichia       0.00      0.00      0.00         3\n",
      "   Norovirus       0.65      0.93      0.76        14\n",
      "       Other       0.47      0.53      0.50        15\n",
      "  Salmonella       0.67      0.20      0.31        10\n",
      "\n",
      "    accuracy                           0.55        42\n",
      "   macro avg       0.45      0.42      0.39        42\n",
      "weighted avg       0.54      0.55      0.51        42\n",
      "\n"
     ]
    },
    {
     "data": {
      "image/png": "[encoded data removed]",
      "text/plain": [
       "<Figure size 432x288 with 2 Axes>"
      ]
     },
     "metadata": {
      "needs_background": "light"
     },
     "output_type": "display_data"
    }
   ],
   "source": [
    "from sklearn.naive_bayes import MultinomialNB\n",
    "MyModelNB= MultinomialNB()\n",
    "MyModelNB.fit(TrainDF_nolabels, TrainLabels)\n",
    "Prediction = MyModelNB.predict(TestDF)\n",
    "print(\"\\nThe prediction from NB is:\")\n",
    "print(Prediction)\n",
    "print(\"\\nThe actual labels are:\")\n",
    "print(TestLabels)\n",
    "## confusion matrix\n",
    "from sklearn.metrics import confusion_matrix\n",
    "cnf_matrix = confusion_matrix(TestLabels, Prediction,labels=['Other', 'Escherichia' ,'Salmonella' ,'Norovirus'])\n",
    "plt.figure()\n",
    "plot_confusion_matrix(cnf_matrix, classes=['Other', 'Escherichia' ,'Salmonella' ,'Norovirus'],\n",
    "                      title='Confusion matrix for Multinomial Naive Bayes Classifier')\n",
    "print(\"\\nClassification Report:\\n\")\n",
    "evaluate_model(MyModelNB, TestDF, TestLabels)"
   ]
  },
  {
   "cell_type": "markdown",
   "metadata": {},
   "source": [
    "### Bernoulli Naive Bayes Classifier"
   ]
  },
  {
   "cell_type": "code",
   "execution_count": 10,
   "metadata": {},
   "outputs": [
    {
     "name": "stdout",
     "output_type": "stream",
     "text": [
      "\n",
      "Bernoulli prediction:\n",
      " ['Other' 'Other' 'Other' 'Other' 'Other' 'Other' 'Other' 'Other' 'Other'\n",
      " 'Other' 'Other' 'Other' 'Other' 'Other' 'Other' 'Norovirus' 'Norovirus'\n",
      " 'Norovirus' 'Norovirus' 'Salmonella' 'Norovirus' 'Norovirus' 'Salmonella'\n",
      " 'Norovirus' 'Norovirus' 'Norovirus' 'Norovirus' 'Norovirus' 'Norovirus'\n",
      " 'Norovirus' 'Salmonella' 'Salmonella' 'Norovirus' 'Norovirus' 'Norovirus'\n",
      " 'Norovirus' 'Salmonella' 'Norovirus' 'Salmonella' 'Salmonella'\n",
      " 'Norovirus' 'Salmonella']\n",
      "\n",
      "Actual:\n",
      "0           Other\n",
      "1           Other\n",
      "2           Other\n",
      "3           Other\n",
      "4           Other\n",
      "5           Other\n",
      "6           Other\n",
      "7     Escherichia\n",
      "8      Salmonella\n",
      "9           Other\n",
      "10          Other\n",
      "11     Salmonella\n",
      "12     Salmonella\n",
      "13     Salmonella\n",
      "14     Salmonella\n",
      "15      Norovirus\n",
      "16      Norovirus\n",
      "17      Norovirus\n",
      "18      Norovirus\n",
      "19      Norovirus\n",
      "20      Norovirus\n",
      "21          Other\n",
      "22     Salmonella\n",
      "23      Norovirus\n",
      "24          Other\n",
      "25      Norovirus\n",
      "26      Norovirus\n",
      "27      Norovirus\n",
      "28          Other\n",
      "29          Other\n",
      "30     Salmonella\n",
      "31      Norovirus\n",
      "32          Other\n",
      "33      Norovirus\n",
      "34          Other\n",
      "35      Norovirus\n",
      "36     Salmonella\n",
      "37    Escherichia\n",
      "38    Escherichia\n",
      "39     Salmonella\n",
      "40      Norovirus\n",
      "41     Salmonella\n",
      "Name: Etiology, dtype: category\n",
      "Categories (4, object): ['Escherichia', 'Norovirus', 'Other', 'Salmonella']\n",
      "Confusion matrix, without normalization\n",
      "[[ 9  0  0  6]\n",
      " [ 1  0  1  1]\n",
      " [ 5  0  5  0]\n",
      " [ 0  0  2 12]]\n",
      "\n",
      "Classification Report:\n",
      "\n"
     ]
    },
    {
     "name": "stderr",
     "output_type": "stream",
     "text": [
      "/Users/nikkkikong/anaconda3/lib/python3.7/site-packages/sklearn/metrics/_classification.py:1221: UndefinedMetricWarning: Precision and F-score are ill-defined and being set to 0.0 in labels with no predicted samples. Use `zero_division` parameter to control this behavior.\n",
      "  _warn_prf(average, modifier, msg_start, len(result))\n"
     ]
    },
    {
     "name": "stdout",
     "output_type": "stream",
     "text": [
      "              precision    recall  f1-score   support\n",
      "\n",
      " Escherichia       0.00      0.00      0.00         3\n",
      "   Norovirus       0.63      0.86      0.73        14\n",
      "       Other       0.60      0.60      0.60        15\n",
      "  Salmonella       0.62      0.50      0.56        10\n",
      "\n",
      "    accuracy                           0.62        42\n",
      "   macro avg       0.46      0.49      0.47        42\n",
      "weighted avg       0.57      0.62      0.59        42\n",
      "\n"
     ]
    },
    {
     "data": {
      "image/png": "[encoded data removed]",
      "text/plain": [
       "<Figure size 432x288 with 2 Axes>"
      ]
     },
     "metadata": {
      "needs_background": "light"
     },
     "output_type": "display_data"
    }
   ],
   "source": [
    "from sklearn.naive_bayes import BernoulliNB\n",
    "## Bernoulli uses 0 and 1 data (not counts)\n",
    "## So - we need to re-format our data first\n",
    "## Make a COPY of the DF\n",
    "TrainDF_nolabels_Binary=TrainDF_nolabels.copy()   ## USE .copy()\n",
    "TrainDF_nolabels_Binary[TrainDF_nolabels_Binary >= 1] = 1\n",
    "TrainDF_nolabels_Binary[TrainDF_nolabels_Binary < 1] = 0\n",
    "BernModel = BernoulliNB()\n",
    "BernModel.fit(TrainDF_nolabels_Binary, TrainLabels)\n",
    "#BernoulliNB(alpha=1.0, binarize=0.0, class_prior=None, fit_prior=True)\n",
    "print(\"\\nBernoulli prediction:\\n\", BernModel.predict(TestDF))\n",
    "print(\"\\nActual:\")\n",
    "print(TestLabels)\n",
    "bn_matrix = confusion_matrix(TestLabels, BernModel.predict(TestDF),labels=['Other', 'Escherichia' ,'Salmonella' ,'Norovirus'])\n",
    "plt.figure()\n",
    "plot_confusion_matrix(bn_matrix, classes=['Other', 'Escherichia' ,'Salmonella' ,'Norovirus'],\n",
    "                      title='Confusion matrix for Bernoulli Naive Bayes Classifier')\n",
    "print(\"\\nClassification Report:\\n\")\n",
    "evaluate_model(BernModel, TestDF, TestLabels)"
   ]
  },
  {
   "cell_type": "markdown",
   "metadata": {},
   "source": [
    "### SVM Classifier with a Linear Kernel"
   ]
  },
  {
   "cell_type": "code",
   "execution_count": 13,
   "metadata": {},
   "outputs": [
    {
     "name": "stderr",
     "output_type": "stream",
     "text": [
      "/Users/nikkkikong/anaconda3/lib/python3.7/site-packages/sklearn/svm/_base.py:977: ConvergenceWarning: Liblinear failed to converge, increase the number of iterations.\n",
      "  \"the number of iterations.\", ConvergenceWarning)\n"
     ]
    },
    {
     "name": "stdout",
     "output_type": "stream",
     "text": [
      "SVM prediction:\n",
      " ['Other' 'Other' 'Other' 'Other' 'Other' 'Other' 'Other' 'Other' 'Other'\n",
      " 'Other' 'Other' 'Other' 'Other' 'Other' 'Salmonella' 'Norovirus'\n",
      " 'Norovirus' 'Norovirus' 'Norovirus' 'Norovirus' 'Norovirus' 'Norovirus'\n",
      " 'Norovirus' 'Norovirus' 'Norovirus' 'Norovirus' 'Norovirus' 'Norovirus'\n",
      " 'Norovirus' 'Norovirus' 'Norovirus' 'Norovirus' 'Norovirus' 'Norovirus'\n",
      " 'Norovirus' 'Norovirus' 'Norovirus' 'Norovirus' 'Norovirus' 'Salmonella'\n",
      " 'Norovirus' 'Salmonella']\n",
      "Actual:\n",
      "0           Other\n",
      "1           Other\n",
      "2           Other\n",
      "3           Other\n",
      "4           Other\n",
      "5           Other\n",
      "6           Other\n",
      "7     Escherichia\n",
      "8      Salmonella\n",
      "9           Other\n",
      "10          Other\n",
      "11     Salmonella\n",
      "12     Salmonella\n",
      "13     Salmonella\n",
      "14     Salmonella\n",
      "15      Norovirus\n",
      "16      Norovirus\n",
      "17      Norovirus\n",
      "18      Norovirus\n",
      "19      Norovirus\n",
      "20      Norovirus\n",
      "21          Other\n",
      "22     Salmonella\n",
      "23      Norovirus\n",
      "24          Other\n",
      "25      Norovirus\n",
      "26      Norovirus\n",
      "27      Norovirus\n",
      "28          Other\n",
      "29          Other\n",
      "30     Salmonella\n",
      "31      Norovirus\n",
      "32          Other\n",
      "33      Norovirus\n",
      "34          Other\n",
      "35      Norovirus\n",
      "36     Salmonella\n",
      "37    Escherichia\n",
      "38    Escherichia\n",
      "39     Salmonella\n",
      "40      Norovirus\n",
      "41     Salmonella\n",
      "Name: Etiology, dtype: category\n",
      "Categories (4, object): ['Escherichia', 'Norovirus', 'Other', 'Salmonella']\n",
      "Confusion matrix, without normalization\n",
      "[[ 9  0  0  6]\n",
      " [ 1  0  0  2]\n",
      " [ 4  0  3  3]\n",
      " [ 0  0  0 14]]\n",
      "\n",
      "Classification Report:\n",
      "\n"
     ]
    },
    {
     "name": "stderr",
     "output_type": "stream",
     "text": [
      "/Users/nikkkikong/anaconda3/lib/python3.7/site-packages/sklearn/metrics/_classification.py:1221: UndefinedMetricWarning: Precision and F-score are ill-defined and being set to 0.0 in labels with no predicted samples. Use `zero_division` parameter to control this behavior.\n",
      "  _warn_prf(average, modifier, msg_start, len(result))\n"
     ]
    },
    {
     "name": "stdout",
     "output_type": "stream",
     "text": [
      "              precision    recall  f1-score   support\n",
      "\n",
      " Escherichia       0.00      0.00      0.00         3\n",
      "   Norovirus       0.56      1.00      0.72        14\n",
      "       Other       0.64      0.60      0.62        15\n",
      "  Salmonella       1.00      0.30      0.46        10\n",
      "\n",
      "    accuracy                           0.62        42\n",
      "   macro avg       0.55      0.48      0.45        42\n",
      "weighted avg       0.65      0.62      0.57        42\n",
      "\n"
     ]
    },
    {
     "data": {
      "image/png": "[encoded data removed]",
      "text/plain": [
       "<Figure size 432x288 with 2 Axes>"
      ]
     },
     "metadata": {
      "needs_background": "light"
     },
     "output_type": "display_data"
    }
   ],
   "source": [
    "from sklearn.svm import LinearSVC\n",
    "SVM_Model=LinearSVC(C=.1)\n",
    "SVM_Model.fit(TrainDF_nolabels, TrainLabels)\n",
    "#BernoulliNB(alpha=1.0, binarize=0.0, class_prior=None, fit_prior=True)\n",
    "print(\"SVM prediction:\\n\", SVM_Model.predict(TestDF))\n",
    "print(\"Actual:\")\n",
    "print(TestLabels)\n",
    "\n",
    "SVM_matrix = confusion_matrix(TestLabels, SVM_Model.predict(TestDF),labels=['Other', 'Escherichia' ,'Salmonella' ,'Norovirus'])\n",
    "plt.figure()\n",
    "plot_confusion_matrix(SVM_matrix, classes=['Other', 'Escherichia' ,'Salmonella' ,'Norovirus'],\n",
    "                      title='Confusion matrix for SVM Classifier with a Linear Kernel')\n",
    "print(\"\\nClassification Report:\\n\")\n",
    "evaluate_model(SVM_Model, TestDF, TestLabels)                                    "
   ]
  },
  {
   "cell_type": "markdown",
   "metadata": {},
   "source": [
    "### SVM Classifier with a Polynomial Kernel"
   ]
  },
  {
   "cell_type": "code",
   "execution_count": 17,
   "metadata": {},
   "outputs": [
    {
     "name": "stdout",
     "output_type": "stream",
     "text": [
      "[LibSVM]SVM prediction:\n",
      " ['Other' 'Other' 'Other' 'Other' 'Other' 'Other' 'Other' 'Other' 'Other'\n",
      " 'Other' 'Norovirus' 'Other' 'Other' 'Other' 'Other' 'Norovirus'\n",
      " 'Norovirus' 'Norovirus' 'Norovirus' 'Norovirus' 'Norovirus' 'Norovirus'\n",
      " 'Norovirus' 'Norovirus' 'Norovirus' 'Norovirus' 'Norovirus' 'Norovirus'\n",
      " 'Norovirus' 'Norovirus' 'Norovirus' 'Norovirus' 'Norovirus' 'Norovirus'\n",
      " 'Norovirus' 'Norovirus' 'Norovirus' 'Norovirus' 'Norovirus' 'Other'\n",
      " 'Norovirus' 'Other']\n",
      "Actual:\n",
      "0           Other\n",
      "1           Other\n",
      "2           Other\n",
      "3           Other\n",
      "4           Other\n",
      "5           Other\n",
      "6           Other\n",
      "7     Escherichia\n",
      "8      Salmonella\n",
      "9           Other\n",
      "10          Other\n",
      "11     Salmonella\n",
      "12     Salmonella\n",
      "13     Salmonella\n",
      "14     Salmonella\n",
      "15      Norovirus\n",
      "16      Norovirus\n",
      "17      Norovirus\n",
      "18      Norovirus\n",
      "19      Norovirus\n",
      "20      Norovirus\n",
      "21          Other\n",
      "22     Salmonella\n",
      "23      Norovirus\n",
      "24          Other\n",
      "25      Norovirus\n",
      "26      Norovirus\n",
      "27      Norovirus\n",
      "28          Other\n",
      "29          Other\n",
      "30     Salmonella\n",
      "31      Norovirus\n",
      "32          Other\n",
      "33      Norovirus\n",
      "34          Other\n",
      "35      Norovirus\n",
      "36     Salmonella\n",
      "37    Escherichia\n",
      "38    Escherichia\n",
      "39     Salmonella\n",
      "40      Norovirus\n",
      "41     Salmonella\n",
      "Name: Etiology, dtype: category\n",
      "Categories (4, object): ['Escherichia', 'Norovirus', 'Other', 'Salmonella']\n",
      "Confusion matrix, without normalization\n",
      "[[ 8  0  0  7]\n",
      " [ 1  0  0  2]\n",
      " [ 7  0  0  3]\n",
      " [ 0  0  0 14]]\n",
      "\n",
      "Classification Report:\n",
      "\n",
      "              precision    recall  f1-score   support\n",
      "\n",
      " Escherichia       0.00      0.00      0.00         3\n",
      "   Norovirus       0.54      1.00      0.70        14\n",
      "       Other       0.50      0.53      0.52        15\n",
      "  Salmonella       0.00      0.00      0.00        10\n",
      "\n",
      "    accuracy                           0.52        42\n",
      "   macro avg       0.26      0.38      0.30        42\n",
      "weighted avg       0.36      0.52      0.42        42\n",
      "\n"
     ]
    },
    {
     "name": "stderr",
     "output_type": "stream",
     "text": [
      "/Users/nikkkikong/anaconda3/lib/python3.7/site-packages/sklearn/metrics/_classification.py:1221: UndefinedMetricWarning: Precision and F-score are ill-defined and being set to 0.0 in labels with no predicted samples. Use `zero_division` parameter to control this behavior.\n",
      "  _warn_prf(average, modifier, msg_start, len(result))\n"
     ]
    },
    {
     "data": {
      "image/png": "[encoded data removed]",
      "text/plain": [
       "<Figure size 432x288 with 2 Axes>"
      ]
     },
     "metadata": {
      "needs_background": "light"
     },
     "output_type": "display_data"
    }
   ],
   "source": [
    "from sklearn.svm import SVC\n",
    "SVM_Model=sklearn.svm.SVC(C=0.2, kernel='poly',degree=2,\n",
    "                           gamma=\"auto\", verbose=True)\n",
    "SVM_Model.fit(TrainDF_nolabels, TrainLabels)\n",
    "print(\"SVM prediction:\\n\", SVM_Model.predict(TestDF))\n",
    "print(\"Actual:\")\n",
    "print(TestLabels)\n",
    "\n",
    "SVM_matrix = confusion_matrix(TestLabels, SVM_Model.predict(TestDF),labels=['Other', 'Escherichia' ,'Salmonella' ,'Norovirus'])\n",
    "plt.figure()\n",
    "plot_confusion_matrix(SVM_matrix, classes=['Other', 'Escherichia' ,'Salmonella' ,'Norovirus'],\n",
    "                      title='Confusion matrix for SVM Classifier with a Poly Kernel')\n",
    "print(\"\\nClassification Report:\\n\")\n",
    "evaluate_model(SVM_Model, TestDF, TestLabels)    "
   ]
  },
  {
   "cell_type": "markdown",
   "metadata": {},
   "source": [
    "### SVM Classifier with a Radial Kernel"
   ]
  },
  {
   "cell_type": "code",
   "execution_count": 25,
   "metadata": {},
   "outputs": [
    {
     "name": "stdout",
     "output_type": "stream",
     "text": [
      "[LibSVM]SVM prediction:\n",
      " ['Other' 'Other' 'Other' 'Other' 'Other' 'Other' 'Other' 'Salmonella'\n",
      " 'Salmonella' 'Other' 'Other' 'Other' 'Other' 'Salmonella' 'Other'\n",
      " 'Norovirus' 'Norovirus' 'Norovirus' 'Norovirus' 'Other' 'Norovirus'\n",
      " 'Norovirus' 'Salmonella' 'Norovirus' 'Norovirus' 'Other' 'Norovirus'\n",
      " 'Other' 'Norovirus' 'Other' 'Salmonella' 'Norovirus' 'Norovirus'\n",
      " 'Norovirus' 'Norovirus' 'Other' 'Other' 'Other' 'Other' 'Salmonella'\n",
      " 'Norovirus' 'Other']\n",
      "Actual:\n",
      "0           Other\n",
      "1           Other\n",
      "2           Other\n",
      "3           Other\n",
      "4           Other\n",
      "5           Other\n",
      "6           Other\n",
      "7     Escherichia\n",
      "8      Salmonella\n",
      "9           Other\n",
      "10          Other\n",
      "11     Salmonella\n",
      "12     Salmonella\n",
      "13     Salmonella\n",
      "14     Salmonella\n",
      "15      Norovirus\n",
      "16      Norovirus\n",
      "17      Norovirus\n",
      "18      Norovirus\n",
      "19      Norovirus\n",
      "20      Norovirus\n",
      "21          Other\n",
      "22     Salmonella\n",
      "23      Norovirus\n",
      "24          Other\n",
      "25      Norovirus\n",
      "26      Norovirus\n",
      "27      Norovirus\n",
      "28          Other\n",
      "29          Other\n",
      "30     Salmonella\n",
      "31      Norovirus\n",
      "32          Other\n",
      "33      Norovirus\n",
      "34          Other\n",
      "35      Norovirus\n",
      "36     Salmonella\n",
      "37    Escherichia\n",
      "38    Escherichia\n",
      "39     Salmonella\n",
      "40      Norovirus\n",
      "41     Salmonella\n",
      "Name: Etiology, dtype: category\n",
      "Categories (4, object): ['Escherichia', 'Norovirus', 'Other', 'Salmonella']\n",
      "Confusion matrix, without normalization\n",
      "[[10  0  0  5]\n",
      " [ 2  0  1  0]\n",
      " [ 5  0  5  0]\n",
      " [ 4  0  0 10]]\n",
      "\n",
      "Classification Report:\n",
      "\n",
      "              precision    recall  f1-score   support\n",
      "\n",
      " Escherichia       0.00      0.00      0.00         3\n",
      "   Norovirus       0.67      0.71      0.69        14\n",
      "       Other       0.48      0.67      0.56        15\n",
      "  Salmonella       0.83      0.50      0.62        10\n",
      "\n",
      "    accuracy                           0.60        42\n",
      "   macro avg       0.49      0.47      0.47        42\n",
      "weighted avg       0.59      0.60      0.58        42\n",
      "\n"
     ]
    },
    {
     "name": "stderr",
     "output_type": "stream",
     "text": [
      "/Users/nikkkikong/anaconda3/lib/python3.7/site-packages/sklearn/metrics/_classification.py:1221: UndefinedMetricWarning: Precision and F-score are ill-defined and being set to 0.0 in labels with no predicted samples. Use `zero_division` parameter to control this behavior.\n",
      "  _warn_prf(average, modifier, msg_start, len(result))\n"
     ]
    },
    {
     "data": {
      "image/png": "[encoded data removed]",
      "text/plain": [
       "<Figure size 432x288 with 2 Axes>"
      ]
     },
     "metadata": {
      "needs_background": "light"
     },
     "output_type": "display_data"
    }
   ],
   "source": [
    "from sklearn.svm import SVC\n",
    "SVM_Model=sklearn.svm.SVC(C=0.5, kernel='rbf', \n",
    "                           verbose=True, gamma=\"auto\")\n",
    "SVM_Model.fit(TrainDF_nolabels, TrainLabels)\n",
    "print(\"SVM prediction:\\n\", SVM_Model.predict(TestDF))\n",
    "print(\"Actual:\")\n",
    "print(TestLabels)\n",
    "\n",
    "SVM_matrix = confusion_matrix(TestLabels, SVM_Model.predict(TestDF),labels=['Other', 'Escherichia' ,'Salmonella' ,'Norovirus'])\n",
    "plt.figure()\n",
    "plot_confusion_matrix(SVM_matrix, classes=['Other', 'Escherichia' ,'Salmonella' ,'Norovirus'],\n",
    "                      title='Confusion matrix for SVM Classifier with a Radial Kernel')\n",
    "\n",
    "print(\"\\nClassification Report:\\n\")\n",
    "evaluate_model(SVM_Model, TestDF, TestLabels)    "
   ]
  },
  {
   "cell_type": "code",
   "execution_count": null,
   "metadata": {},
   "outputs": [],
   "source": []
  }
 ],
 "metadata": {
  "kernelspec": {
   "display_name": "Python 3",
   "language": "python",
   "name": "python3"
  },
  "language_info": {
   "codemirror_mode": {
    "name": "ipython",
    "version": 3
   },
   "file_extension": ".py",
   "mimetype": "text/x-python",
   "name": "python",
   "nbconvert_exporter": "python",
   "pygments_lexer": "ipython3",
   "version": "3.7.6"
  }
 },
 "nbformat": 4,
 "nbformat_minor": 4
}
